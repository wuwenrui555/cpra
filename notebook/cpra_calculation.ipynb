{
 "cells": [
  {
   "cell_type": "code",
   "execution_count": 1,
   "id": "fa098bb4",
   "metadata": {},
   "outputs": [],
   "source": [
    "%reload_ext autoreload\n",
    "%autoreload 2\n",
    "\n",
    "import pandas as pd\n",
    "\n",
    "from cpra.cpra_calculation import (\n",
    "    _cpra_donor_filtering_single,\n",
    "    _cpra_haplotype_frequency_single,\n",
    "    cpra_donor_filtering,\n",
    "    cpra_haplotype_frequency,\n",
    ")"
   ]
  },
  {
   "cell_type": "code",
   "execution_count": 2,
   "id": "76540d42",
   "metadata": {},
   "outputs": [],
   "source": [
    "COLUMN_UAS = {\"recipient_id\": \"id\", \"unacceptable_antigen\": \"uas\"}\n",
    "COLUMN_HLA = {\"donor_id\": \"id\", \"hla\": \"hla\"}\n",
    "COLUMN_HAPLOTYPE = {\"frequency\": \"freq\"}"
   ]
  },
  {
   "cell_type": "code",
   "execution_count": 3,
   "id": "c876bc43",
   "metadata": {},
   "outputs": [
    {
     "name": "stdout",
     "output_type": "stream",
     "text": [
      "        id      hla\n",
      "0  391;392  A*02:03\n",
      "1  314;316  A*11:01\n",
      "2      717  A*02:01\n",
      "3        7  A*02:06\n",
      "4      713  A*02:07\n"
     ]
    }
   ],
   "source": [
    "df_hla = pd.read_csv(\"../data_private/250914_donor_hla.csv\")\n",
    "print(df_hla.head())"
   ]
  },
  {
   "cell_type": "code",
   "execution_count": 4,
   "id": "52ba3d3a",
   "metadata": {},
   "outputs": [
    {
     "name": "stdout",
     "output_type": "stream",
     "text": [
      "   id         uas\n",
      "0   1  DRB1*09:01\n",
      "1   1  DRB1*07:01\n",
      "2   1  DRB3*03:01\n",
      "3   1  DRB3*01:01\n",
      "4   2  DRB1*09:01\n",
      "['DRB1*09:01', 'DRB1*07:01', 'DRB3*03:01', 'DRB3*01:01']\n"
     ]
    }
   ],
   "source": [
    "df_uas = pd.read_csv(\"../data_private/250914_unacceptable_antigen.csv\")\n",
    "print(df_uas.head())\n",
    "\n",
    "print(df_uas[df_uas[\"id\"] == 1][\"uas\"].tolist())"
   ]
  },
  {
   "cell_type": "code",
   "execution_count": 5,
   "id": "84417409",
   "metadata": {},
   "outputs": [
    {
     "name": "stdout",
     "output_type": "stream",
     "text": [
      "         A        B        C        DQB1        DRB1      freq\n",
      "0  A*33:03  B*58:01  C*03:02  DQB1*02:01  DRB1*03:01  0.039326\n",
      "1  A*02:07  B*46:01  C*01:02  DQB1*03:03  DRB1*09:01  0.035915\n",
      "2  A*11:01  B*15:02  C*08:01  DQB1*03:01  DRB1*12:02  0.025820\n",
      "3  A*11:01  B*46:01  C*01:02  DQB1*03:03  DRB1*09:01  0.018996\n",
      "4  A*02:03  B*38:02  C*07:02  DQB1*05:02  DRB1*16:02  0.014012\n"
     ]
    }
   ],
   "source": [
    "df_haplotype = pd.read_csv(\"../data_private/250914_haplotype_frequency.csv\")\n",
    "print(df_haplotype.head())"
   ]
  },
  {
   "cell_type": "code",
   "execution_count": 6,
   "id": "2eae9f38",
   "metadata": {},
   "outputs": [
    {
     "data": {
      "application/vnd.microsoft.datawrangler.viewer.v0+json": {
       "columns": [
        {
         "name": "index",
         "rawType": "int64",
         "type": "integer"
        },
        {
         "name": "id",
         "rawType": "int64",
         "type": "integer"
        },
        {
         "name": "cpra",
         "rawType": "float64",
         "type": "float"
        }
       ],
       "ref": "e6326db2-c2a3-4e19-a7fd-3fe688d9c512",
       "rows": [
        [
         "0",
         "1",
         "33.14366998577525"
        ],
        [
         "1",
         "2",
         "33.14366998577525"
        ],
        [
         "2",
         "4",
         "31.721194879089616"
        ],
        [
         "3",
         "5",
         "36.41536273115221"
        ],
        [
         "4",
         "6",
         "0.0"
        ],
        [
         "5",
         "7",
         "0.0"
        ],
        [
         "6",
         "8",
         "0.7112375533428165"
        ],
        [
         "7",
         "9",
         "0.0"
        ],
        [
         "8",
         "10",
         "13.513513513513514"
        ],
        [
         "9",
         "11",
         "68.27880512091038"
        ],
        [
         "10",
         "12",
         "68.27880512091038"
        ],
        [
         "11",
         "13",
         "68.27880512091038"
        ],
        [
         "12",
         "14",
         "68.27880512091038"
        ],
        [
         "13",
         "15",
         "68.27880512091038"
        ],
        [
         "14",
         "16",
         "85.49075391180654"
        ],
        [
         "15",
         "17",
         "13.513513513513514"
        ],
        [
         "16",
         "18",
         "70.98150782361309"
        ],
        [
         "17",
         "19",
         "0.7112375533428165"
        ],
        [
         "18",
         "20",
         "72.68847795163585"
        ],
        [
         "19",
         "21",
         "70.5547652916074"
        ],
        [
         "20",
         "22",
         "88.62019914651493"
        ],
        [
         "21",
         "23",
         "82.07681365576103"
        ],
        [
         "22",
         "24",
         "76.52916073968706"
        ],
        [
         "23",
         "25",
         "40.82503556187766"
        ],
        [
         "24",
         "26",
         "82.36130867709815"
        ],
        [
         "25",
         "27",
         "0.0"
        ],
        [
         "26",
         "28",
         "14.082503556187767"
        ],
        [
         "27",
         "29",
         "8.392603129445234"
        ],
        [
         "28",
         "30",
         "6.543385490753911"
        ],
        [
         "29",
         "31",
         "17.21194879089616"
        ],
        [
         "30",
         "32",
         "17.21194879089616"
        ],
        [
         "31",
         "33",
         "2.418207681365576"
        ],
        [
         "32",
         "34",
         "5.405405405405405"
        ],
        [
         "33",
         "35",
         "37.69559032716928"
        ],
        [
         "34",
         "36",
         "16.35846372688478"
        ],
        [
         "35",
         "37",
         "26.173541963015644"
        ],
        [
         "36",
         "38",
         "62.87339971550497"
        ],
        [
         "37",
         "39",
         "58.89046941678521"
        ],
        [
         "38",
         "40",
         "74.3954480796586"
        ],
        [
         "39",
         "41",
         "74.3954480796586"
        ],
        [
         "40",
         "42",
         "0.0"
        ],
        [
         "41",
         "43",
         "7.823613086770982"
        ],
        [
         "42",
         "44",
         "34.28165007112376"
        ],
        [
         "43",
         "45",
         "0.1422475106685633"
        ],
        [
         "44",
         "46",
         "53.91180654338549"
        ],
        [
         "45",
         "48",
         "0.0"
        ],
        [
         "46",
         "49",
         "18.349928876244665"
        ],
        [
         "47",
         "50",
         "18.349928876244665"
        ],
        [
         "48",
         "51",
         "33.14366998577525"
        ],
        [
         "49",
         "52",
         "0.0"
        ]
       ],
       "shape": {
        "columns": 2,
        "rows": 559
       }
      },
      "text/html": [
       "<div>\n",
       "<style scoped>\n",
       "    .dataframe tbody tr th:only-of-type {\n",
       "        vertical-align: middle;\n",
       "    }\n",
       "\n",
       "    .dataframe tbody tr th {\n",
       "        vertical-align: top;\n",
       "    }\n",
       "\n",
       "    .dataframe thead th {\n",
       "        text-align: right;\n",
       "    }\n",
       "</style>\n",
       "<table border=\"1\" class=\"dataframe\">\n",
       "  <thead>\n",
       "    <tr style=\"text-align: right;\">\n",
       "      <th></th>\n",
       "      <th>id</th>\n",
       "      <th>cpra</th>\n",
       "    </tr>\n",
       "  </thead>\n",
       "  <tbody>\n",
       "    <tr>\n",
       "      <th>0</th>\n",
       "      <td>1</td>\n",
       "      <td>33.143670</td>\n",
       "    </tr>\n",
       "    <tr>\n",
       "      <th>1</th>\n",
       "      <td>2</td>\n",
       "      <td>33.143670</td>\n",
       "    </tr>\n",
       "    <tr>\n",
       "      <th>2</th>\n",
       "      <td>4</td>\n",
       "      <td>31.721195</td>\n",
       "    </tr>\n",
       "    <tr>\n",
       "      <th>3</th>\n",
       "      <td>5</td>\n",
       "      <td>36.415363</td>\n",
       "    </tr>\n",
       "    <tr>\n",
       "      <th>4</th>\n",
       "      <td>6</td>\n",
       "      <td>0.000000</td>\n",
       "    </tr>\n",
       "    <tr>\n",
       "      <th>...</th>\n",
       "      <td>...</td>\n",
       "      <td>...</td>\n",
       "    </tr>\n",
       "    <tr>\n",
       "      <th>554</th>\n",
       "      <td>400</td>\n",
       "      <td>70.981508</td>\n",
       "    </tr>\n",
       "    <tr>\n",
       "      <th>555</th>\n",
       "      <td>401</td>\n",
       "      <td>70.981508</td>\n",
       "    </tr>\n",
       "    <tr>\n",
       "      <th>556</th>\n",
       "      <td>405</td>\n",
       "      <td>60.739687</td>\n",
       "    </tr>\n",
       "    <tr>\n",
       "      <th>557</th>\n",
       "      <td>406</td>\n",
       "      <td>60.739687</td>\n",
       "    </tr>\n",
       "    <tr>\n",
       "      <th>558</th>\n",
       "      <td>407</td>\n",
       "      <td>60.739687</td>\n",
       "    </tr>\n",
       "  </tbody>\n",
       "</table>\n",
       "<p>559 rows × 2 columns</p>\n",
       "</div>"
      ],
      "text/plain": [
       "      id       cpra\n",
       "0      1  33.143670\n",
       "1      2  33.143670\n",
       "2      4  31.721195\n",
       "3      5  36.415363\n",
       "4      6   0.000000\n",
       "..   ...        ...\n",
       "554  400  70.981508\n",
       "555  401  70.981508\n",
       "556  405  60.739687\n",
       "557  406  60.739687\n",
       "558  407  60.739687\n",
       "\n",
       "[559 rows x 2 columns]"
      ]
     },
     "execution_count": 6,
     "metadata": {},
     "output_type": "execute_result"
    }
   ],
   "source": [
    "cpra_donor_filtering(\n",
    "    unacceptable_antigen=df_uas,\n",
    "    donor_hla=df_hla,\n",
    "    unacceptable_antigen_columns=COLUMN_UAS,\n",
    "    donor_hla_columns=COLUMN_HLA,\n",
    ")"
   ]
  },
  {
   "cell_type": "code",
   "execution_count": 7,
   "id": "40cb7640",
   "metadata": {},
   "outputs": [
    {
     "name": "stderr",
     "output_type": "stream",
     "text": [
      "Calculating CPRA: 100%|██████████████████████████████| 559/559 [00:11<00:00, 48.23it/s]\n"
     ]
    },
    {
     "data": {
      "application/vnd.microsoft.datawrangler.viewer.v0+json": {
       "columns": [
        {
         "name": "index",
         "rawType": "int64",
         "type": "integer"
        },
        {
         "name": "id",
         "rawType": "int64",
         "type": "integer"
        },
        {
         "name": "cpra",
         "rawType": "float64",
         "type": "float"
        }
       ],
       "ref": "e5208a8d-15ea-46b3-9ab0-adad330bbe89",
       "rows": [
        [
         "0",
         "1",
         "33.44877922029752"
        ],
        [
         "1",
         "2",
         "33.44877922029752"
        ],
        [
         "2",
         "3",
         "7.260092424489361"
        ],
        [
         "3",
         "4",
         "31.22567980599632"
        ],
        [
         "4",
         "5",
         "36.20470007270057"
        ],
        [
         "5",
         "6",
         "0.0"
        ],
        [
         "6",
         "7",
         "0.0"
        ],
        [
         "7",
         "8",
         "0.709973513569151"
        ],
        [
         "8",
         "9",
         "0.0"
        ],
        [
         "9",
         "10",
         "13.056986582813156"
        ],
        [
         "10",
         "11",
         "67.78674762285404"
        ],
        [
         "11",
         "12",
         "67.78674762285404"
        ],
        [
         "12",
         "13",
         "67.78674762285404"
        ],
        [
         "13",
         "14",
         "67.78674762285404"
        ],
        [
         "14",
         "15",
         "67.78674762285404"
        ],
        [
         "15",
         "16",
         "86.63545098334653"
        ],
        [
         "16",
         "17",
         "13.056986582813156"
        ],
        [
         "17",
         "18",
         "71.08838775519864"
        ],
        [
         "18",
         "19",
         "0.709973513569151"
        ],
        [
         "19",
         "20",
         "73.95236436106543"
        ],
        [
         "20",
         "21",
         "70.93519605733923"
        ],
        [
         "21",
         "22",
         "89.7563406214926"
        ],
        [
         "22",
         "23",
         "82.92414867687518"
        ],
        [
         "23",
         "24",
         "77.69686306888426"
        ],
        [
         "24",
         "25",
         "40.43187769684232"
        ],
        [
         "25",
         "26",
         "82.27729051835317"
        ],
        [
         "26",
         "27",
         "0.0"
        ],
        [
         "27",
         "28",
         "14.378290245952163"
        ],
        [
         "28",
         "29",
         "8.216519694206081"
        ],
        [
         "29",
         "30",
         "6.711336283151114"
        ],
        [
         "30",
         "31",
         "17.378895583572074"
        ],
        [
         "31",
         "32",
         "17.378895583572074"
        ],
        [
         "32",
         "33",
         "2.4035904077566728"
        ],
        [
         "33",
         "34",
         "5.470716406380682"
        ],
        [
         "34",
         "35",
         "38.12153823465226"
        ],
        [
         "35",
         "36",
         "16.341277797483766"
        ],
        [
         "36",
         "37",
         "25.569500828804138"
        ],
        [
         "37",
         "38",
         "61.35376325875763"
        ],
        [
         "38",
         "39",
         "58.01260839183411"
        ],
        [
         "39",
         "40",
         "72.67555532789336"
        ],
        [
         "40",
         "41",
         "72.67555532789336"
        ],
        [
         "41",
         "42",
         "0.0"
        ],
        [
         "42",
         "43",
         "7.807229814700111"
        ],
        [
         "43",
         "44",
         "35.055071648951554"
        ],
        [
         "44",
         "45",
         "0.14219704660356491"
        ],
        [
         "45",
         "46",
         "55.15752068317277"
        ],
        [
         "46",
         "47",
         "0.9932547153807647"
        ],
        [
         "47",
         "48",
         "0.0"
        ],
        [
         "48",
         "49",
         "18.538477439148448"
        ],
        [
         "49",
         "50",
         "18.538477439148448"
        ]
       ],
       "shape": {
        "columns": 2,
        "rows": 559
       }
      },
      "text/html": [
       "<div>\n",
       "<style scoped>\n",
       "    .dataframe tbody tr th:only-of-type {\n",
       "        vertical-align: middle;\n",
       "    }\n",
       "\n",
       "    .dataframe tbody tr th {\n",
       "        vertical-align: top;\n",
       "    }\n",
       "\n",
       "    .dataframe thead th {\n",
       "        text-align: right;\n",
       "    }\n",
       "</style>\n",
       "<table border=\"1\" class=\"dataframe\">\n",
       "  <thead>\n",
       "    <tr style=\"text-align: right;\">\n",
       "      <th></th>\n",
       "      <th>id</th>\n",
       "      <th>cpra</th>\n",
       "    </tr>\n",
       "  </thead>\n",
       "  <tbody>\n",
       "    <tr>\n",
       "      <th>0</th>\n",
       "      <td>1</td>\n",
       "      <td>33.448779</td>\n",
       "    </tr>\n",
       "    <tr>\n",
       "      <th>1</th>\n",
       "      <td>2</td>\n",
       "      <td>33.448779</td>\n",
       "    </tr>\n",
       "    <tr>\n",
       "      <th>2</th>\n",
       "      <td>3</td>\n",
       "      <td>7.260092</td>\n",
       "    </tr>\n",
       "    <tr>\n",
       "      <th>3</th>\n",
       "      <td>4</td>\n",
       "      <td>31.225680</td>\n",
       "    </tr>\n",
       "    <tr>\n",
       "      <th>4</th>\n",
       "      <td>5</td>\n",
       "      <td>36.204700</td>\n",
       "    </tr>\n",
       "    <tr>\n",
       "      <th>...</th>\n",
       "      <td>...</td>\n",
       "      <td>...</td>\n",
       "    </tr>\n",
       "    <tr>\n",
       "      <th>554</th>\n",
       "      <td>555</td>\n",
       "      <td>0.851665</td>\n",
       "    </tr>\n",
       "    <tr>\n",
       "      <th>555</th>\n",
       "      <td>556</td>\n",
       "      <td>0.142197</td>\n",
       "    </tr>\n",
       "    <tr>\n",
       "      <th>556</th>\n",
       "      <td>557</td>\n",
       "      <td>13.718903</td>\n",
       "    </tr>\n",
       "    <tr>\n",
       "      <th>557</th>\n",
       "      <td>558</td>\n",
       "      <td>13.718903</td>\n",
       "    </tr>\n",
       "    <tr>\n",
       "      <th>558</th>\n",
       "      <td>559</td>\n",
       "      <td>13.718903</td>\n",
       "    </tr>\n",
       "  </tbody>\n",
       "</table>\n",
       "<p>559 rows × 2 columns</p>\n",
       "</div>"
      ],
      "text/plain": [
       "      id       cpra\n",
       "0      1  33.448779\n",
       "1      2  33.448779\n",
       "2      3   7.260092\n",
       "3      4  31.225680\n",
       "4      5  36.204700\n",
       "..   ...        ...\n",
       "554  555   0.851665\n",
       "555  556   0.142197\n",
       "556  557  13.718903\n",
       "557  558  13.718903\n",
       "558  559  13.718903\n",
       "\n",
       "[559 rows x 2 columns]"
      ]
     },
     "execution_count": 7,
     "metadata": {},
     "output_type": "execute_result"
    }
   ],
   "source": [
    "cpra_haplotype_frequency(\n",
    "    unacceptable_antigen=df_uas,\n",
    "    haplotype_frequency=df_haplotype,\n",
    "    loci=[\"A\", \"B\", \"C\", \"DRB1\", \"DQB1\"],\n",
    "    unacceptable_antigen_columns=COLUMN_UAS,\n",
    "    haplotype_frequency_column=COLUMN_HAPLOTYPE,\n",
    ")"
   ]
  },
  {
   "cell_type": "code",
   "execution_count": 8,
   "id": "ba7a05df",
   "metadata": {},
   "outputs": [
    {
     "data": {
      "text/plain": [
       "33.14366998577525"
      ]
     },
     "execution_count": 8,
     "metadata": {},
     "output_type": "execute_result"
    }
   ],
   "source": [
    "_cpra_donor_filtering_single(\n",
    "    [\"DRB1*09:01\", \"DRB1*07:01\", \"DRB3*03:01\", \"DRB3*01:01\"],\n",
    "    donor_hla=df_hla,\n",
    "    donor_hla_columns=COLUMN_HLA,\n",
    ")"
   ]
  },
  {
   "cell_type": "code",
   "execution_count": 9,
   "id": "57dc8be3",
   "metadata": {},
   "outputs": [
    {
     "data": {
      "text/plain": [
       "np.float64(33.44877922029752)"
      ]
     },
     "execution_count": 9,
     "metadata": {},
     "output_type": "execute_result"
    }
   ],
   "source": [
    "_cpra_haplotype_frequency_single(\n",
    "    [\"DRB1*09:01\", \"DRB1*07:01\", \"DRB3*03:01\", \"DRB3*01:01\"],\n",
    "    haplotype_frequency=df_haplotype,\n",
    "    loci=[\"A\", \"B\", \"C\", \"DRB1\", \"DQB1\"],\n",
    "    haplotype_frequency_column=COLUMN_HAPLOTYPE,\n",
    ")"
   ]
  }
 ],
 "metadata": {
  "kernelspec": {
   "display_name": "cpra",
   "language": "python",
   "name": "python3"
  },
  "language_info": {
   "codemirror_mode": {
    "name": "ipython",
    "version": 3
   },
   "file_extension": ".py",
   "mimetype": "text/x-python",
   "name": "python",
   "nbconvert_exporter": "python",
   "pygments_lexer": "ipython3",
   "version": "3.10.18"
  }
 },
 "nbformat": 4,
 "nbformat_minor": 5
}
