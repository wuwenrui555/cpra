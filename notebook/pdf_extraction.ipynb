{
 "cells": [
  {
   "cell_type": "code",
   "execution_count": 1,
   "id": "a25325cd",
   "metadata": {},
   "outputs": [],
   "source": [
    "%reload_ext autoreload\n",
    "%autoreload 2\n",
    "\n",
    "from pathlib import Path\n",
    "\n",
    "import pandas as pd\n",
    "\n",
    "from cpra.cpra_calculation import (\n",
    "    _cpra_donor_filtering_single,\n",
    "    _cpra_haplotype_frequency_single,\n",
    ")\n",
    "from cpra.pdf_extraction.v2503 import (\n",
    "    extract_antibody_results,\n",
    "    extract_patient_info,\n",
    "    extract_pdf_tables,\n",
    "    extract_unacceptable_antigens,\n",
    ")"
   ]
  },
  {
   "cell_type": "code",
   "execution_count": 2,
   "id": "dcc11cb9",
   "metadata": {},
   "outputs": [],
   "source": [
    "data_dir = Path(\"/mnt/nfs/home/wenruiwu/projects/cpra/data_private\")"
   ]
  },
  {
   "cell_type": "markdown",
   "id": "b7336262",
   "metadata": {},
   "source": [
    "# 01. Extract unacceptable antigens from LSA PDF (BFR)"
   ]
  },
  {
   "cell_type": "code",
   "execution_count": 3,
   "id": "74ea4f58",
   "metadata": {},
   "outputs": [],
   "source": [
    "KW_ANTIBODY = [\"特异性\", \"结果判读\"]\n",
    "KW_PATIENT_INFO = [\"患者姓名\", \"患者性别\", \"出生日期\"]\n",
    "KW_SPECIFICITY = [\"Specificity\", \"特异性\"]\n",
    "KW_MFI = [\"MFI\", \"荧光中位值\"]"
   ]
  },
  {
   "cell_type": "code",
   "execution_count": 4,
   "id": "46307622",
   "metadata": {},
   "outputs": [
    {
     "name": "stdout",
     "output_type": "stream",
     "text": [
      "Successfully opened PDF file: /mnt/nfs/home/wenruiwu/projects/cpra/data_private/LZY_ZSDY_25LSA04176_20250325_25Y00961.pdf\n",
      "Total pages: 7\n",
      "\n",
      "--- Processing page 1 ---\n",
      "Found 3 table(s) on page 1.\n",
      "\n",
      "--- Processing page 2 ---\n",
      "Found 1 table(s) on page 2.\n",
      "\n",
      "--- Processing page 3 ---\n",
      "Found 1 table(s) on page 3.\n",
      "\n",
      "--- Processing page 4 ---\n",
      "Found 2 table(s) on page 4.\n",
      "\n",
      "--- Processing page 5 ---\n",
      "Found 1 table(s) on page 5.\n",
      "\n",
      "--- Processing page 6 ---\n",
      "Found 1 table(s) on page 6.\n",
      "\n",
      "--- Processing page 7 ---\n",
      "Found 1 table(s) on page 7.\n"
     ]
    }
   ],
   "source": [
    "df_list = extract_pdf_tables(data_dir / \"LZY_ZSDY_25LSA04176_20250325_25Y00961.pdf\")"
   ]
  },
  {
   "cell_type": "code",
   "execution_count": 5,
   "id": "44fa50b8",
   "metadata": {},
   "outputs": [
    {
     "name": "stdout",
     "output_type": "stream",
     "text": [
      "  特异性_Specificity 血清学_Serology 抗原表位_Epitope 荧光中位值_MFI 结果判读_Result    tag\n",
      "0         A*02:03         A203         107W     16860          强阳  HLA_I\n",
      "1         A*02:05           A2    152V,107W     16809          强阳  HLA_I\n",
      "2         A*68:01          A68         152V     16733          强阳  HLA_I\n",
      "3         A*02:02           A2    152V,107W     16642          强阳  HLA_I\n",
      "4         A*01:01           A1         66NM     16546          强阳  HLA_I\n",
      "           特异性_Specificity 血清学_Serology 抗原表位_Epitope 荧光中位值_MFI 结果判读_Result  \\\n",
      "96              DRB1*07:01          DR7          57V     21589          强阳   \n",
      "97   DQA1*05:01 DQB1*02:02          DQ2         130R     21386          强阳   \n",
      "98   DQA1*05:01 DQB1*03:01          DQ7         130R     21175          强阳   \n",
      "99   DQA1*05:01 DQB1*02:01          DQ2         130R     21003          强阳   \n",
      "100  DQA1*02:01 DQB1*02:02          DQ2         130R     20974          强阳   \n",
      "\n",
      "        tag  \n",
      "96   HLA_II  \n",
      "97   HLA_II  \n",
      "98   HLA_II  \n",
      "99   HLA_II  \n",
      "100  HLA_II  \n"
     ]
    }
   ],
   "source": [
    "df_antibody_results = extract_antibody_results(df_list, header_keywords=KW_ANTIBODY)\n",
    "print(df_antibody_results[df_antibody_results[\"tag\"] == \"HLA_I\"].head())\n",
    "print(df_antibody_results[df_antibody_results[\"tag\"] == \"HLA_II\"].head())"
   ]
  },
  {
   "cell_type": "code",
   "execution_count": 6,
   "id": "14dc1d98",
   "metadata": {},
   "outputs": [
    {
     "name": "stdout",
     "output_type": "stream",
     "text": [
      "Index(['患者姓名_Patient Name', '患者性别_Gender', '出生日期_Birth date', '患者年龄_Age',\n",
      "       '送检单位/个人_Sample Origin', '送检医生_Doctor Name', '联系电话_Contact No.',\n",
      "       '临床诊断_Diagnosis', '病房/床号_Room/Bed No.', '检测目的_Purpose',\n",
      "       '病历号_Medical Record No.', '移植日期_Transplant Date',\n",
      "       '采样日期_Collection Date', '接收日期_Receiving Date', '样本编号_Sample ID',\n",
      "       '样本类型_Sample Type', '检测项目_Test Name', '检测方法_Test Method'],\n",
      "      dtype='object')\n"
     ]
    }
   ],
   "source": [
    "df_patient_info = extract_patient_info(df_list, header_keywords=KW_PATIENT_INFO)\n",
    "# print(df_patient_info)\n",
    "print(df_patient_info.columns)"
   ]
  },
  {
   "cell_type": "code",
   "execution_count": 7,
   "id": "26b9e6b7",
   "metadata": {},
   "outputs": [
    {
     "name": "stdout",
     "output_type": "stream",
     "text": [
      "['A*02:03', 'A*02:05', 'A*68:01', 'A*02:02', 'A*01:01', 'A*68:02', 'B*15:02', 'B*51:01', 'A*25:01', 'B*78:01', 'A*02:01', 'B*15:18', 'B*57:01', 'B*18:01', 'B*08:01', 'B*14:01', 'B*15:01', 'B*15:16', 'A*32:01', 'B*15:13', 'B*59:01', 'A*69:01', 'B*07:02', 'B*14:02', 'B*54:01', 'B*50:01', 'B*53:01', 'B*35:01', 'A*80:01', 'B*49:01', 'B*42:01', 'B*39:01', 'B*35:08', 'B*45:01', 'B*15:03', 'B*38:01', 'B*56:01', 'A*29:02', 'B*81:01', 'B*27:08', 'B*58:01', 'B*44:03', 'B*15:12', 'B*41:01', 'B*52:01', 'C*08:01', 'B*82:02', 'B*44:02', 'B*67:01', 'B*37:01', 'B*55:01', 'B*27:03', 'C*06:02', 'B*27:05', 'A*23:01', 'C*08:02', 'A*11:02', 'A*29:01', 'A*24:02', 'A*24:03', 'B*40:01', 'C*05:01', 'A*33:01', 'B*07:03', 'C*18:01', 'B*40:02', 'A*33:03', 'C*04:03', 'B*47:01', 'A*36:01', 'A*34:02', 'C*15:02', 'C*17:01', 'C*02:02', 'C*07:02', 'C*12:02', 'A*31:01', 'C*07:01', 'B*73:01', 'B*48:01', 'A*66:02', 'A*30:01', 'C*04:01', 'C*14:02', 'A*03:01', 'C*16:01', 'C*03:03', 'C*03:04', 'A*74:01', 'A*66:01', 'C*01:02', 'B*46:01', 'A*26:01', 'DRB1*07:01', 'DQA1*05:01', 'DQB1*02:02', 'DQA1*05:01', 'DQB1*03:01', 'DQA1*05:01', 'DQB1*02:01', 'DQA1*02:01', 'DQB1*02:02', 'DQA1*04:01', 'DQB1*04:02', 'DQA1*02:01', 'DQB1*02:01', 'DQA1*06:01', 'DQB1*03:01', 'DQA1*03:02', 'DQB1*03:01', 'DQA1*03:01', 'DQB1*03:01', 'DQA1*04:01', 'DQB1*04:01', 'DQA1*04:01', 'DQB1*03:03', 'DQA1*06:01', 'DQB1*03:03', 'DQA1*02:01', 'DQB1*06:01', 'DQA1*03:02', 'DQB1*02:02', 'DRB3*02:02', 'DQA1*06:01', 'DQB1*04:02', 'DRB3*03:01', 'DQA1*02:01', 'DQB1*04:01', 'DQA1*05:01', 'DQB1*04:01', 'DQA1*02:01', 'DQB1*03:02', 'DQA1*01:03', 'DQB1*06:03', 'DQA1*01:02', 'DQB1*05:01', 'DQA1*01:02', 'DQB1*06:02', 'DQA1*01:01', 'DQB1*05:01', 'DQA1*01:03', 'DQB1*06:01', 'DQA1*01:02', 'DQB1*06:04', 'DQA1*01:02', 'DQB1*05:02', 'DQA1*01:04', 'DQB1*05:03', 'DQA1*01:04', 'DQB1*06:01', 'DRB3*01:01', 'DRB1*12:01', 'DRB1*12:02', 'DPA1*04:01', 'DPB1*13:01', 'DPA1*04:01', 'DPB1*04:01', 'DRB1*11:03', 'DRB1*03:03', 'DRB1*03:01', 'DRB1*03:02', 'DRB1*13:01', 'DRB1*11:01', 'DRB1*14:03', 'DRB1*11:04', 'DRB1*13:03', 'DRB1*14:01', 'DRB1*15:01', 'DRB1*15:02', 'DQA1*03:01', 'DQB1*04:02', 'DQA1*03:02', 'DQB1*03:03', 'DRB1*16:01', 'DRB1*13:05', 'DQA1*03:01', 'DQB1*03:02', 'DPA1*02:01', 'DPB1*13:01', 'DRB1*16:02', 'DRB1*15:03', 'DPA1*02:01', 'DPB1*17:01', 'DPA1*01:03', 'DPB1*06:01', 'DPA1*02:01', 'DPB1*09:01', 'DQA1*03:02', 'DQB1*03:02', 'DPA1*02:01', 'DPB1*19:01']\n"
     ]
    }
   ],
   "source": [
    "unacceptable_antigens = extract_unacceptable_antigens(\n",
    "    df_antibody_results,\n",
    "    specificity_keywords=KW_SPECIFICITY,\n",
    "    mfi_keywords=KW_MFI,\n",
    "    mfi_cutoff=750,\n",
    ")\n",
    "print(unacceptable_antigens)"
   ]
  },
  {
   "cell_type": "markdown",
   "id": "989209b6",
   "metadata": {},
   "source": [
    "# 02. CPRA calculation"
   ]
  },
  {
   "cell_type": "code",
   "execution_count": 8,
   "id": "5a198b94",
   "metadata": {},
   "outputs": [],
   "source": [
    "COLUMN_UAS = {\"recipient_id\": \"id\", \"unacceptable_antigen\": \"uas\"}\n",
    "COLUMN_HLA = {\"donor_id\": \"id\", \"hla\": \"hla\"}\n",
    "COLUMN_HAPLOTYPE = {\"frequency\": \"freq\"}"
   ]
  },
  {
   "cell_type": "code",
   "execution_count": 9,
   "id": "9fffc5b5",
   "metadata": {},
   "outputs": [
    {
     "name": "stdout",
     "output_type": "stream",
     "text": [
      "        id      hla\n",
      "0  391;392  A*02:03\n",
      "1  314;316  A*11:01\n",
      "2      717  A*02:01\n",
      "3        7  A*02:06\n",
      "4      713  A*02:07\n"
     ]
    }
   ],
   "source": [
    "df_hla = pd.read_csv(data_dir / \"250914_donor_hla.csv\")\n",
    "print(df_hla.head())"
   ]
  },
  {
   "cell_type": "code",
   "execution_count": 10,
   "id": "71b42226",
   "metadata": {},
   "outputs": [
    {
     "name": "stdout",
     "output_type": "stream",
     "text": [
      "         A        B        C        DQB1        DRB1      freq\n",
      "0  A*33:03  B*58:01  C*03:02  DQB1*02:01  DRB1*03:01  0.039326\n",
      "1  A*02:07  B*46:01  C*01:02  DQB1*03:03  DRB1*09:01  0.035915\n",
      "2  A*11:01  B*15:02  C*08:01  DQB1*03:01  DRB1*12:02  0.025820\n",
      "3  A*11:01  B*46:01  C*01:02  DQB1*03:03  DRB1*09:01  0.018996\n",
      "4  A*02:03  B*38:02  C*07:02  DQB1*05:02  DRB1*16:02  0.014012\n"
     ]
    }
   ],
   "source": [
    "df_haplotype = pd.read_csv(data_dir / \"250914_haplotype_frequency.csv\")\n",
    "print(df_haplotype.head())"
   ]
  },
  {
   "cell_type": "code",
   "execution_count": 11,
   "id": "42bd8469",
   "metadata": {},
   "outputs": [
    {
     "name": "stdout",
     "output_type": "stream",
     "text": [
      "100.0 100.0\n"
     ]
    }
   ],
   "source": [
    "cpra_donor_filtering = _cpra_donor_filtering_single(\n",
    "    unacceptable_antigens,\n",
    "    donor_hla=df_hla,\n",
    "    donor_hla_columns=COLUMN_HLA,\n",
    ")\n",
    "\n",
    "cpra_haplotype_frequency = _cpra_haplotype_frequency_single(\n",
    "    unacceptable_antigens,\n",
    "    haplotype_frequency=df_haplotype,\n",
    "    loci=[\"A\", \"B\", \"C\", \"DRB1\", \"DQB1\"],\n",
    "    haplotype_frequency_column=COLUMN_HAPLOTYPE,\n",
    ")\n",
    "print(cpra_donor_filtering, cpra_haplotype_frequency)"
   ]
  },
  {
   "cell_type": "markdown",
   "id": "b34bbdd6",
   "metadata": {},
   "source": [
    "# 03. Summary"
   ]
  },
  {
   "cell_type": "code",
   "execution_count": 12,
   "id": "7ca82cc5",
   "metadata": {},
   "outputs": [
    {
     "name": "stdout",
     "output_type": "stream",
     "text": [
      "===== Patient Information =====\n",
      "\n",
      "患者姓名_Patient Name: ---\n",
      "患者性别_Gender: ---\n",
      "出生日期_Birth date: ---\n",
      "患者年龄_Age: ---\n",
      "送检单位/个人_Sample Origin: ---\n",
      "送检医生_Doctor Name: ---\n",
      "联系电话_Contact No.: ---\n",
      "临床诊断_Diagnosis: ---\n",
      "病房/床号_Room/Bed No.: ---\n",
      "检测目的_Purpose: ---\n",
      "病历号_Medical Record No.: ---\n",
      "移植日期_Transplant Date: ---\n",
      "采样日期_Collection Date: ---\n",
      "接收日期_Receiving Date: ---\n",
      "样本编号_Sample ID: ---\n",
      "样本类型_Sample Type: ---\n",
      "检测项目_Test Name: ---\n",
      "检测方法_Test Method: ---\n",
      "\n",
      "===== CPRA =====\n",
      "\n",
      "Donor Filtering: 100.00%\n",
      "Haplotype Frequency: 100.00%\n",
      "\n"
     ]
    }
   ],
   "source": [
    "print(\"===== Patient Information =====\\n\")\n",
    "for col, value in zip(df_patient_info.columns, df_patient_info.values[0]):\n",
    "    # print(f\"{col}: {value}\")\n",
    "    print(f\"{col}: ---\")\n",
    "\n",
    "print(\"\\n===== CPRA =====\\n\")\n",
    "\n",
    "print(f\"Donor Filtering: {cpra_donor_filtering:.2f}%\")\n",
    "print(f\"Haplotype Frequency: {cpra_haplotype_frequency:.2f}%\\n\")\n"
   ]
  }
 ],
 "metadata": {
  "kernelspec": {
   "display_name": "cpra",
   "language": "python",
   "name": "python3"
  },
  "language_info": {
   "codemirror_mode": {
    "name": "ipython",
    "version": 3
   },
   "file_extension": ".py",
   "mimetype": "text/x-python",
   "name": "python",
   "nbconvert_exporter": "python",
   "pygments_lexer": "ipython3",
   "version": "3.10.18"
  }
 },
 "nbformat": 4,
 "nbformat_minor": 5
}
